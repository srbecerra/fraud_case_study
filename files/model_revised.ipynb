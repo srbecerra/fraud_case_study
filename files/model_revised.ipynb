{
 "cells": [
  {
   "cell_type": "code",
   "execution_count": 18,
   "metadata": {},
   "outputs": [],
   "source": [
    "from IPython.display import HTML\n",
    "import cPickle as pickle\n",
    "import pandas as pd\n",
    "import numpy as np\n",
    "\n",
    "from data_prep import parse_tickets, parse_payouts, get_data\n",
    "from sklearn.ensemble import RandomForestClassifier, AdaBoostClassifier\n",
    "from sklearn.model_selection import GridSearchCV\n",
    "from sklearn.cross_validation import train_test_split\n",
    "from sklearn.metrics import confusion_matrix"
   ]
  },
  {
   "cell_type": "code",
   "execution_count": 2,
   "metadata": {},
   "outputs": [],
   "source": [
    "data = pd.read_json('data.json')"
   ]
  },
  {
   "cell_type": "markdown",
   "metadata": {},
   "source": [
    "## Constructing data for model"
   ]
  },
  {
   "cell_type": "code",
   "execution_count": 3,
   "metadata": {},
   "outputs": [
    {
     "name": "stderr",
     "output_type": "stream",
     "text": [
      "/home/michael/anaconda2/lib/python2.7/site-packages/numpy/core/fromnumeric.py:2909: RuntimeWarning: Mean of empty slice.\n",
      "  out=out, **kwargs)\n",
      "/home/michael/anaconda2/lib/python2.7/site-packages/numpy/core/_methods.py:80: RuntimeWarning: invalid value encountered in double_scalars\n",
      "  ret = ret.dtype.type(ret / rcount)\n",
      "/home/michael/anaconda2/lib/python2.7/site-packages/ipykernel_launcher.py:3: SettingWithCopyWarning: \n",
      "A value is trying to be set on a copy of a slice from a DataFrame.\n",
      "Try using .loc[row_indexer,col_indexer] = value instead\n",
      "\n",
      "See the caveats in the documentation: http://pandas.pydata.org/pandas-docs/stable/indexing.html#indexing-view-versus-copy\n",
      "  This is separate from the ipykernel package so we can avoid doing imports until\n",
      "/home/michael/anaconda2/lib/python2.7/site-packages/ipykernel_launcher.py:4: SettingWithCopyWarning: \n",
      "A value is trying to be set on a copy of a slice from a DataFrame.\n",
      "Try using .loc[row_indexer,col_indexer] = value instead\n",
      "\n",
      "See the caveats in the documentation: http://pandas.pydata.org/pandas-docs/stable/indexing.html#indexing-view-versus-copy\n",
      "  after removing the cwd from sys.path.\n",
      "/home/michael/anaconda2/lib/python2.7/site-packages/ipykernel_launcher.py:5: SettingWithCopyWarning: \n",
      "A value is trying to be set on a copy of a slice from a DataFrame.\n",
      "Try using .loc[row_indexer,col_indexer] = value instead\n",
      "\n",
      "See the caveats in the documentation: http://pandas.pydata.org/pandas-docs/stable/indexing.html#indexing-view-versus-copy\n",
      "  \"\"\"\n",
      "/home/michael/anaconda2/lib/python2.7/site-packages/ipykernel_launcher.py:6: SettingWithCopyWarning: \n",
      "A value is trying to be set on a copy of a slice from a DataFrame.\n",
      "Try using .loc[row_indexer,col_indexer] = value instead\n",
      "\n",
      "See the caveats in the documentation: http://pandas.pydata.org/pandas-docs/stable/indexing.html#indexing-view-versus-copy\n",
      "  \n",
      "/home/michael/anaconda2/lib/python2.7/site-packages/ipykernel_launcher.py:7: SettingWithCopyWarning: \n",
      "A value is trying to be set on a copy of a slice from a DataFrame.\n",
      "Try using .loc[row_indexer,col_indexer] = value instead\n",
      "\n",
      "See the caveats in the documentation: http://pandas.pydata.org/pandas-docs/stable/indexing.html#indexing-view-versus-copy\n",
      "  import sys\n",
      "/home/michael/anaconda2/lib/python2.7/site-packages/ipykernel_launcher.py:8: SettingWithCopyWarning: \n",
      "A value is trying to be set on a copy of a slice from a DataFrame.\n",
      "Try using .loc[row_indexer,col_indexer] = value instead\n",
      "\n",
      "See the caveats in the documentation: http://pandas.pydata.org/pandas-docs/stable/indexing.html#indexing-view-versus-copy\n",
      "  \n"
     ]
    }
   ],
   "source": [
    "model_data = data[['acct_type', 'ticket_types', 'previous_payouts', 'user_created', 'user_age', 'event_start', 'event_created', 'approx_payout_date', 'name_length']]\n",
    "\n",
    "model_data['avg_ticket_sold_cnt'] = model_data['ticket_types'].map(lambda x: parse_tickets(x)[3])\n",
    "model_data['event_age_at_start(days)'] = (model_data['event_start'] - model_data['event_created'])/86400.0\n",
    "model_data['total_payout_hist'] = model_data['previous_payouts'].map(lambda x: parse_payouts(x)[2])\n",
    "model_data['payout'] = model_data['ticket_types'].map(lambda x: parse_tickets(x)[4])\n",
    "model_data['num_payouts_hist'] = model_data['previous_payouts'].map(lambda x: parse_payouts(x)[0])\n",
    "model_data['avg_ticket_cost'] = model_data['ticket_types'].map(lambda x: parse_tickets(x)[1])\n",
    "\n",
    "model_data = model_data.drop(['ticket_types', 'previous_payouts', 'event_start', 'event_created'], axis=1)"
   ]
  },
  {
   "cell_type": "code",
   "execution_count": 4,
   "metadata": {
    "collapsed": true
   },
   "outputs": [],
   "source": [
    "label_map = {'fraudster': 1, 'fraudster_event': 1, 'locked': 1, 'premium': 1, 'spammer_limited': 1, 'spammer_noinvite': 1, 'spammer_warn': 1, \\\n",
    "             'tos_warn': 1, 'premium': 0}\n",
    "\n",
    "model_data['label'] = model_data['acct_type'].map(label_map)"
   ]
  },
  {
   "cell_type": "code",
   "execution_count": 5,
   "metadata": {},
   "outputs": [
    {
     "data": {
      "text/html": [
       "<div>\n",
       "<style>\n",
       "    .dataframe thead tr:only-child th {\n",
       "        text-align: right;\n",
       "    }\n",
       "\n",
       "    .dataframe thead th {\n",
       "        text-align: left;\n",
       "    }\n",
       "\n",
       "    .dataframe tbody tr th {\n",
       "        vertical-align: top;\n",
       "    }\n",
       "</style>\n",
       "<table border=\"1\" class=\"dataframe\">\n",
       "  <thead>\n",
       "    <tr style=\"text-align: right;\">\n",
       "      <th></th>\n",
       "      <th>acct_type</th>\n",
       "      <th>user_created</th>\n",
       "      <th>user_age</th>\n",
       "      <th>approx_payout_date</th>\n",
       "      <th>name_length</th>\n",
       "      <th>avg_ticket_sold_cnt</th>\n",
       "      <th>event_age_at_start(days)</th>\n",
       "      <th>total_payout_hist</th>\n",
       "      <th>payout</th>\n",
       "      <th>num_payouts_hist</th>\n",
       "      <th>avg_ticket_cost</th>\n",
       "    </tr>\n",
       "    <tr>\n",
       "      <th>label</th>\n",
       "      <th></th>\n",
       "      <th></th>\n",
       "      <th></th>\n",
       "      <th></th>\n",
       "      <th></th>\n",
       "      <th></th>\n",
       "      <th></th>\n",
       "      <th></th>\n",
       "      <th></th>\n",
       "      <th></th>\n",
       "      <th></th>\n",
       "    </tr>\n",
       "  </thead>\n",
       "  <tbody>\n",
       "    <tr>\n",
       "      <th>0.0</th>\n",
       "      <td>12373</td>\n",
       "      <td>12373</td>\n",
       "      <td>12373</td>\n",
       "      <td>12373</td>\n",
       "      <td>12373</td>\n",
       "      <td>12370</td>\n",
       "      <td>12373</td>\n",
       "      <td>12373</td>\n",
       "      <td>12373</td>\n",
       "      <td>12373</td>\n",
       "      <td>12370</td>\n",
       "    </tr>\n",
       "    <tr>\n",
       "      <th>1.0</th>\n",
       "      <td>1879</td>\n",
       "      <td>1879</td>\n",
       "      <td>1879</td>\n",
       "      <td>1879</td>\n",
       "      <td>1879</td>\n",
       "      <td>1795</td>\n",
       "      <td>1879</td>\n",
       "      <td>1879</td>\n",
       "      <td>1879</td>\n",
       "      <td>1879</td>\n",
       "      <td>1795</td>\n",
       "    </tr>\n",
       "  </tbody>\n",
       "</table>\n",
       "</div>"
      ],
      "text/plain": [
       "       acct_type  user_created  user_age  approx_payout_date  name_length  \\\n",
       "label                                                                       \n",
       "0.0        12373         12373     12373               12373        12373   \n",
       "1.0         1879          1879      1879                1879         1879   \n",
       "\n",
       "       avg_ticket_sold_cnt  event_age_at_start(days)  total_payout_hist  \\\n",
       "label                                                                     \n",
       "0.0                  12370                     12373              12373   \n",
       "1.0                   1795                      1879               1879   \n",
       "\n",
       "       payout  num_payouts_hist  avg_ticket_cost  \n",
       "label                                             \n",
       "0.0     12373             12373            12370  \n",
       "1.0      1879              1879             1795  "
      ]
     },
     "execution_count": 5,
     "metadata": {},
     "output_type": "execute_result"
    }
   ],
   "source": [
    "model_data.groupby('label').agg('count')"
   ]
  },
  {
   "cell_type": "code",
   "execution_count": 6,
   "metadata": {
    "collapsed": true
   },
   "outputs": [],
   "source": [
    "model_data = model_data.dropna()\n",
    "y = model_data['label'].values\n",
    "X = model_data.drop(['label', 'acct_type'], axis=1)\n",
    "X_train, X_test, y_train, y_test = train_test_split(X.as_matrix(), y)"
   ]
  },
  {
   "cell_type": "markdown",
   "metadata": {},
   "source": [
    "## Cost Functions"
   ]
  },
  {
   "cell_type": "code",
   "execution_count": 7,
   "metadata": {
    "collapsed": true
   },
   "outputs": [],
   "source": [
    "def fraud_cost(estimator, X, y):\n",
    "    compare = pd.DataFrame(data=[y, estimator.predict(X), -X[:, 8]], index=['actual', 'pred', 'cost'])\n",
    "    compare = compare.T\n",
    "    compare['confusion'] = zip(compare['actual'], compare['pred'] == compare['actual'])\n",
    "    compare['count'] = 1\n",
    "    conf_map = {(0.0, False): 'FP', (0.0, True): 'TN', (1.0, False): 'FN', (1.0, True): 'TP'}\n",
    "    compare['confusion'] = compare['confusion'].map(conf_map)\n",
    "    compare.loc[compare['confusion'] == 'TP', 'cost'] = -500\n",
    "    compare.loc[compare['confusion'] == 'FP', 'cost'] = -500\n",
    "    compare.loc[compare['confusion'] == 'TN', 'cost'] = 0\n",
    "    total_cost = compare.cost.agg('sum')\n",
    "    return compare['cost'].values"
   ]
  },
  {
   "cell_type": "code",
   "execution_count": 8,
   "metadata": {
    "collapsed": true
   },
   "outputs": [],
   "source": [
    "def my_cost(estimator, X, y):\n",
    "    compare = pd.DataFrame(data=[y, estimator.predict(X), -X[:, 8]], index=['actual', 'pred', 'cost'])\n",
    "    compare = compare.T\n",
    "    compare['confusion'] = zip(compare['actual'], compare['pred'] == compare['actual'])\n",
    "    compare['count'] = 1\n",
    "    conf_map = {(0.0, False): 'FP', (0.0, True): 'TN', (1.0, False): 'FN', (1.0, True): 'TP'}\n",
    "    compare['confusion'] = compare['confusion'].map(conf_map)\n",
    "    compare.loc[compare['confusion'] == 'TP', 'cost'] = -500\n",
    "    compare.loc[compare['confusion'] == 'FP', 'cost'] = -500\n",
    "    compare.loc[compare['confusion'] == 'TN', 'cost'] = 0\n",
    "    total_cost = compare.cost.agg('sum')\n",
    "    conf_matrix = compare[['confusion', 'count']].groupby('confusion').agg('count')\n",
    "    return total_cost, conf_matrix"
   ]
  },
  {
   "cell_type": "markdown",
   "metadata": {},
   "source": [
    "## Forest Model"
   ]
  },
  {
   "cell_type": "code",
   "execution_count": 9,
   "metadata": {},
   "outputs": [
    {
     "data": {
      "text/plain": [
       "array([[3076,    7],\n",
       "       [ 156,  303]])"
      ]
     },
     "execution_count": 9,
     "metadata": {},
     "output_type": "execute_result"
    }
   ],
   "source": [
    "forest = RandomForestClassifier()\n",
    "forest.fit(X_train, y_train)\n",
    "confusion_matrix(y_test, forest.predict(X_test))"
   ]
  },
  {
   "cell_type": "code",
   "execution_count": 10,
   "metadata": {},
   "outputs": [
    {
     "data": {
      "text/plain": [
       "(-163685.0,            count\n",
       " confusion       \n",
       " FN           156\n",
       " FP             7\n",
       " TN          3076\n",
       " TP           303)"
      ]
     },
     "execution_count": 10,
     "metadata": {},
     "output_type": "execute_result"
    }
   ],
   "source": [
    "my_cost(forest, X_test, y_test)"
   ]
  },
  {
   "cell_type": "code",
   "execution_count": 11,
   "metadata": {},
   "outputs": [
    {
     "data": {
      "text/plain": [
       "array([ 0.,  0.,  0., ...,  0.,  0.,  0.])"
      ]
     },
     "execution_count": 11,
     "metadata": {},
     "output_type": "execute_result"
    }
   ],
   "source": [
    "fraud_cost(forest, X_test, y_test)"
   ]
  },
  {
   "cell_type": "markdown",
   "metadata": {},
   "source": [
    "## Adaboost Model Gridsearch"
   ]
  },
  {
   "cell_type": "code",
   "execution_count": 12,
   "metadata": {},
   "outputs": [
    {
     "data": {
      "text/plain": [
       "array([[3072,   11],\n",
       "       [ 174,  285]])"
      ]
     },
     "execution_count": 12,
     "metadata": {},
     "output_type": "execute_result"
    }
   ],
   "source": [
    "ada = AdaBoostClassifier()\n",
    "ada_param = {'n_estimators': [75, 80, 85, 90], 'learning_rate': [0.65, 0.7], 'random_state': [1]}\n",
    "grid = GridSearchCV(ada, ada_param)\n",
    "grid.fit(X_train, y_train)\n",
    "confusion_matrix(y_test, grid.predict(X_test))"
   ]
  },
  {
   "cell_type": "code",
   "execution_count": 13,
   "metadata": {},
   "outputs": [
    {
     "data": {
      "text/plain": [
       "{'learning_rate': 0.7, 'n_estimators': 90, 'random_state': 1}"
      ]
     },
     "execution_count": 13,
     "metadata": {},
     "output_type": "execute_result"
    }
   ],
   "source": [
    "grid.best_params_"
   ]
  },
  {
   "cell_type": "code",
   "execution_count": 14,
   "metadata": {},
   "outputs": [
    {
     "data": {
      "text/plain": [
       "(-153970.0,            count\n",
       " confusion       \n",
       " FN           174\n",
       " FP            11\n",
       " TN          3072\n",
       " TP           285)"
      ]
     },
     "execution_count": 14,
     "metadata": {},
     "output_type": "execute_result"
    }
   ],
   "source": [
    "my_cost(grid.best_estimator_, X_test, y_test)"
   ]
  },
  {
   "cell_type": "markdown",
   "metadata": {},
   "source": [
    "## Model pickling/unpickling"
   ]
  },
  {
   "cell_type": "code",
   "execution_count": 16,
   "metadata": {
    "collapsed": true
   },
   "outputs": [],
   "source": [
    "with open('model.pkl', 'w') as f:## Parsing ticket data\n",
    "    pickle.dump(grid.best_estimator_, f)"
   ]
  },
  {
   "cell_type": "code",
   "execution_count": 32,
   "metadata": {},
   "outputs": [
    {
     "data": {
      "text/plain": [
       "array([ 0.16666667,  0.03333333,  0.08888889,  0.04444444,  0.07777778,\n",
       "        0.13333333,  0.15555556,  0.04444444,  0.21111111,  0.04444444])"
      ]
     },
     "execution_count": 32,
     "metadata": {},
     "output_type": "execute_result"
    }
   ],
   "source": [
    "with open('model.pkl') as f2:\n",
    "    model = pickle.load(f2)\n",
    "\n",
    "model.feature_importances_"
   ]
  },
  {
   "cell_type": "code",
   "execution_count": null,
   "metadata": {
    "collapsed": true
   },
   "outputs": [],
   "source": []
  }
 ],
 "metadata": {
  "kernelspec": {
   "display_name": "Python 2",
   "language": "python",
   "name": "python2"
  },
  "language_info": {
   "codemirror_mode": {
    "name": "ipython",
    "version": 2
   },
   "file_extension": ".py",
   "mimetype": "text/x-python",
   "name": "python",
   "nbconvert_exporter": "python",
   "pygments_lexer": "ipython2",
   "version": "2.7.13"
  }
 },
 "nbformat": 4,
 "nbformat_minor": 2
}
